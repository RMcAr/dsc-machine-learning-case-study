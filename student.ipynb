{
 "cells": [
  {
   "cell_type": "markdown",
   "metadata": {},
   "source": [
    "# Scenario\n",
    "* You are tasked with investigating customer churn\n",
    "    * churn: when a customer quits a service.  High churn rate = bad for business.\n",
    "* in the `data/` folder is a the dataset you will be working on. \n",
    "\n",
    "\n",
    "# Complete the following\n",
    "* Find features that are high indicators of churn and build visualizations\n",
    "* Build a model to predict churn. You can build any model you want including\n",
    "    * Logistic Regression \n",
    "    * KNN\n",
    "    * Bayesian Classifiers\n",
    "* Choose an evaluation metric for your model\n",
    "    * Accuracy vs Precision vs Recall vs F1\n",
    "* Explain why you chose that Metric\n",
    "* Apply a GridsearchCV to find the best hyper parameters for your model\n",
    "* After you build your final model you must have\n",
    "    * A confusion matrix supporting your model\n",
    "    * Final Metric Score\n",
    "* Make sure you have a validation set for your data\n",
    "\n",
    "\n",
    "# Can you\n",
    "* Work in groups? Yes\n",
    "* Ask cohort-mates for help/advice? Yes\n",
    "* Check what you did with a cohort-mate? Yes\n",
    "* Ask me for advice? Yes\n",
    "\n",
    "This is an opportunity to practice some ML before the Phase 3 project. \n",
    "\n",
    "\n",
    "## things to remember\n",
    "* A data scientist is good at finding key insights to problems not just building models\n",
    "* validate your model with a confusion matrix and have a validation set"
   ]
  },
  {
   "cell_type": "markdown",
   "metadata": {},
   "source": [
    "# The ASK\n",
    "* Build a model to predict churn. So are we looking to predict if a user will enter or exit the service given some info, and then we will have to calculate churn based upon our model. \n",
    "* Components of CHURN:\n",
    "    - Time periods\n",
    "    - total customers acquired during time period\n",
    "    - total customers lost"
   ]
  },
  {
   "cell_type": "code",
   "execution_count": 80,
   "metadata": {},
   "outputs": [],
   "source": [
    "import pandas as pd\n",
    "import numpy as np\n",
    "\n",
    "from sklearn.linear_model import LogisticRegression, LogisticRegressionCV\n",
    "from sklearn.model_selection import train_test_split, GroupShuffleSplit\n",
    "from sklearn.metrics import confusion_matrix\n",
    "from sklearn.preprocessing import OneHotEncoder, MinMaxScaler\n",
    "from sklearn.metrics import roc_auc_score, auc, roc_curve, confusion_matrix\n",
    "\n",
    "import plotly\n",
    "import plotly.graph_objs as go\n",
    "import plotly.express as px\n",
    "import matplotlib.pyplot as plt\n",
    "import seaborn as sns"
   ]
  },
  {
   "cell_type": "code",
   "execution_count": 53,
   "metadata": {},
   "outputs": [
    {
     "data": {
      "text/plain": [
       "Index(['rownumber', 'customerid', 'surname', 'creditscore', 'geography',\n",
       "       'gender', 'age', 'tenure', 'balance', 'numofproducts', 'hascrcard',\n",
       "       'isactivemember', 'estimatedsalary', 'exited'],\n",
       "      dtype='object')"
      ]
     },
     "execution_count": 53,
     "metadata": {},
     "output_type": "execute_result"
    }
   ],
   "source": [
    "df = pd.read_csv('data/Churn_Modelling.csv')\n",
    "\n",
    "df.columns = df.columns.str.lower()\n",
    "\n",
    "df.columns"
   ]
  },
  {
   "cell_type": "markdown",
   "metadata": {},
   "source": [
    "## Data Info\n",
    "* Three string datatypes:\n",
    "    - surname\n",
    "    - geography\n",
    "    - gender\n",
    "* Target = Exited, \n",
    "    - 0 = has not unsubscribed\n",
    "    - 1 = has unsubscribed\n",
    "We should try to predict if a member is exited or not, and then calculate churn from that in post modeling work. \n",
    "   "
   ]
  },
  {
   "cell_type": "code",
   "execution_count": 54,
   "metadata": {},
   "outputs": [
    {
     "name": "stdout",
     "output_type": "stream",
     "text": [
      "<class 'pandas.core.frame.DataFrame'>\n",
      "RangeIndex: 10000 entries, 0 to 9999\n",
      "Data columns (total 14 columns):\n",
      "rownumber          10000 non-null int64\n",
      "customerid         10000 non-null int64\n",
      "surname            10000 non-null object\n",
      "creditscore        10000 non-null int64\n",
      "geography          10000 non-null object\n",
      "gender             10000 non-null object\n",
      "age                10000 non-null int64\n",
      "tenure             10000 non-null int64\n",
      "balance            10000 non-null float64\n",
      "numofproducts      10000 non-null int64\n",
      "hascrcard          10000 non-null int64\n",
      "isactivemember     10000 non-null int64\n",
      "estimatedsalary    10000 non-null float64\n",
      "exited             10000 non-null int64\n",
      "dtypes: float64(2), int64(9), object(3)\n",
      "memory usage: 1.1+ MB\n"
     ]
    }
   ],
   "source": [
    "df.info()"
   ]
  },
  {
   "cell_type": "code",
   "execution_count": 55,
   "metadata": {},
   "outputs": [
    {
     "name": "stderr",
     "output_type": "stream",
     "text": [
      "C:\\Users\\rmcar\\Anaconda\\envs\\learn-env\\lib\\site-packages\\ipykernel_launcher.py:3: SettingWithCopyWarning:\n",
      "\n",
      "\n",
      "A value is trying to be set on a copy of a slice from a DataFrame\n",
      "\n",
      "See the caveats in the documentation: http://pandas.pydata.org/pandas-docs/stable/user_guide/indexing.html#returning-a-view-versus-a-copy\n",
      "\n",
      "C:\\Users\\rmcar\\Anaconda\\envs\\learn-env\\lib\\site-packages\\ipykernel_launcher.py:5: SettingWithCopyWarning:\n",
      "\n",
      "\n",
      "A value is trying to be set on a copy of a slice from a DataFrame\n",
      "\n",
      "See the caveats in the documentation: http://pandas.pydata.org/pandas-docs/stable/user_guide/indexing.html#returning-a-view-versus-a-copy\n",
      "\n"
     ]
    }
   ],
   "source": [
    "for i in range(len(df)):\n",
    "    if df.gender[i] == 'Female':\n",
    "        df.gender[i] = 0\n",
    "    elif df.gender[i] == 'Male':\n",
    "        df.gender[i] = 1\n",
    "\n",
    "df['gender'] = df.gender.astype('float64')\n"
   ]
  },
  {
   "cell_type": "code",
   "execution_count": 56,
   "metadata": {},
   "outputs": [],
   "source": [
    "age_range_list = []\n",
    "for i in range(len(df)):\n",
    "    if df.age[i] < 20:\n",
    "        age_range_list.append('< 20')\n",
    "        continue\n",
    "    elif df.age[i] < 30:\n",
    "        age_range_list.append('20-30')\n",
    "        continue\n",
    "    elif df.age[i] < 40:\n",
    "        age_range_list.append('30-40')\n",
    "        continue\n",
    "    elif df.age[i] < 50:\n",
    "        age_range_list.append('40-50')\n",
    "        continue\n",
    "    elif df.age[i] < 65:\n",
    "        age_range_list.append('50-65')\n",
    "        continue\n",
    "    else:\n",
    "        age_range_list.append('65+')\n",
    "        \n",
    "df['age_range'] = age_range_list"
   ]
  },
  {
   "cell_type": "code",
   "execution_count": 57,
   "metadata": {},
   "outputs": [
    {
     "name": "stdout",
     "output_type": "stream",
     "text": [
      "OneHotEncoder(categorical_features=None, categories=None, drop=None,\n",
      "              dtype=<class 'numpy.float64'>, handle_unknown='error',\n",
      "              n_values=     age_range geography\n",
      "0        40-50    France\n",
      "1        40-50     Spain\n",
      "2        40-50    France\n",
      "3        30-40    France\n",
      "4        40-50     Spain\n",
      "...        ...       ...\n",
      "9995     30-40    France\n",
      "9996     30-40    France\n",
      "9997     30-40    France\n",
      "9998     40-50   Germany\n",
      "9999     20-30    France\n",
      "\n",
      "[10000 rows x 2 columns],\n",
      "              sparse=True)\n"
     ]
    }
   ],
   "source": [
    "# categorical columns\n",
    "df_ohe = df.copy()\n",
    "catt = [ 'age_range',\n",
    "        'geography'\n",
    "]\n",
    "encoded = OneHotEncoder(df_ohe[catt])\n",
    "print(encoded)"
   ]
  },
  {
   "cell_type": "code",
   "execution_count": null,
   "metadata": {},
   "outputs": [],
   "source": []
  },
  {
   "cell_type": "code",
   "execution_count": 58,
   "metadata": {},
   "outputs": [],
   "source": [
    "drops = [ 'rownumber',\n",
    "         'customerid',\n",
    "         'surname',\n",
    "         'geography',\n",
    "         'age',\n",
    "         'age_range',\n",
    "         'exited'\n",
    "    \n",
    "]\n",
    "X = df.drop(columns = drops, axis = 0)\n",
    "y = df.exited\n"
   ]
  },
  {
   "cell_type": "code",
   "execution_count": 59,
   "metadata": {},
   "outputs": [],
   "source": [
    "scaler = MinMaxScaler()\n",
    "X = scaler.fit_transform(X)"
   ]
  },
  {
   "cell_type": "code",
   "execution_count": 60,
   "metadata": {},
   "outputs": [
    {
     "data": {
      "image/png": "[encoded data removed]",
      "text/plain": [
       "<Figure size 432x288 with 1 Axes>"
      ]
     },
     "metadata": {
      "needs_background": "light"
     },
     "output_type": "display_data"
    }
   ],
   "source": [
    "sns.countplot(x = 'exited', data = df)\n",
    "plt.show()"
   ]
  },
  {
   "cell_type": "code",
   "execution_count": 61,
   "metadata": {},
   "outputs": [],
   "source": [
    "X_train, X_test, y_train, y_test = train_test_split(X, y, random_state=0)"
   ]
  },
  {
   "cell_type": "code",
   "execution_count": 62,
   "metadata": {},
   "outputs": [
    {
     "name": "stdout",
     "output_type": "stream",
     "text": [
      "0.796\n"
     ]
    },
    {
     "name": "stderr",
     "output_type": "stream",
     "text": [
      "C:\\Users\\rmcar\\Anaconda\\envs\\learn-env\\lib\\site-packages\\sklearn\\linear_model\\logistic.py:432: FutureWarning:\n",
      "\n",
      "Default solver will be changed to 'lbfgs' in 0.22. Specify a solver to silence this warning.\n",
      "\n"
     ]
    }
   ],
   "source": [
    "logreg = LogisticRegression()\n",
    "logreg.fit(X_train, y_train)\n",
    "y_pred = logreg.predict(X_test)\n",
    "\n",
    "print(logreg.score(X_test, y_test))"
   ]
  },
  {
   "cell_type": "code",
   "execution_count": 65,
   "metadata": {},
   "outputs": [
    {
     "data": {
      "text/html": [
       "<div>\n",
       "<style scoped>\n",
       "    .dataframe tbody tr th:only-of-type {\n",
       "        vertical-align: middle;\n",
       "    }\n",
       "\n",
       "    .dataframe tbody tr th {\n",
       "        vertical-align: top;\n",
       "    }\n",
       "\n",
       "    .dataframe thead th {\n",
       "        text-align: right;\n",
       "    }\n",
       "</style>\n",
       "<table border=\"1\" class=\"dataframe\">\n",
       "  <thead>\n",
       "    <tr style=\"text-align: right;\">\n",
       "      <th></th>\n",
       "      <th>fpr</th>\n",
       "      <th>tpr</th>\n",
       "      <th>1-fpr</th>\n",
       "      <th>tf</th>\n",
       "      <th>thresholds</th>\n",
       "    </tr>\n",
       "  </thead>\n",
       "  <tbody>\n",
       "    <tr>\n",
       "      <th>442</th>\n",
       "      <td>0.395279</td>\n",
       "      <td>0.605108</td>\n",
       "      <td>0.604721</td>\n",
       "      <td>0.000387</td>\n",
       "      <td>0.211575</td>\n",
       "    </tr>\n",
       "  </tbody>\n",
       "</table>\n",
       "</div>"
      ],
      "text/plain": [
       "          fpr       tpr     1-fpr        tf  thresholds\n",
       "442  0.395279  0.605108  0.604721  0.000387    0.211575"
      ]
     },
     "execution_count": 65,
     "metadata": {},
     "output_type": "execute_result"
    }
   ],
   "source": [
    "fpr, tpr, thresholds = roc_curve(y_test, logreg.predict_proba(X_test)[:,1])\n",
    "i = np.arange(len(tpr))\n",
    "roc = pd.DataFrame({'fpr' : pd.Series(fpr, index=i),'tpr' : pd.Series(tpr, index = i), '1-fpr' : pd.Series(1-fpr, index = i), 'tf' : pd.Series(tpr - (1-fpr), index = i), 'thresholds' : pd.Series(thresholds, index = i)})\n",
    "roc.iloc[(roc.tf-0).abs().argsort()[:1]]"
   ]
  },
  {
   "cell_type": "code",
   "execution_count": 72,
   "metadata": {},
   "outputs": [
    {
     "name": "stdout",
     "output_type": "stream",
     "text": [
      "Accuracy: 0.95\n"
     ]
    }
   ],
   "source": [
    "thresh = 0.39\n",
    "preds = np.where(logreg.predict_proba(X_test)[:,1] > thresh, 1, 0)\n",
    "print('Accuracy: {:.2f}'.format(logreg.score(X_test, preds)))"
   ]
  },
  {
   "cell_type": "code",
   "execution_count": 82,
   "metadata": {},
   "outputs": [
    {
     "data": {
      "image/png": "[encoded data removed]",
      "text/plain": [
       "<Figure size 432x288 with 2 Axes>"
      ]
     },
     "metadata": {
      "needs_background": "light"
     },
     "output_type": "display_data"
    }
   ],
   "source": [
    "\n",
    "cm = confusion_matrix(y_test, y_pred)\n",
    "\n",
    "sns.heatmap(cm, annot=True, fmt='0.5g', cmap=sns.color_palette('Blues'))\n",
    "plt.xlabel(\"Predicted\")\n",
    "plt.ylabel(\"Actual\")\n",
    "plt.show()"
   ]
  },
  {
   "cell_type": "code",
   "execution_count": null,
   "metadata": {},
   "outputs": [],
   "source": []
  }
 ],
 "metadata": {
  "kernelspec": {
   "display_name": "Python 3",
   "language": "python",
   "name": "python3"
  },
  "language_info": {
   "codemirror_mode": {
    "name": "ipython",
    "version": 3
   },
   "file_extension": ".py",
   "mimetype": "text/x-python",
   "name": "python",
   "nbconvert_exporter": "python",
   "pygments_lexer": "ipython3",
   "version": "3.6.9"
  }
 },
 "nbformat": 4,
 "nbformat_minor": 4
}
